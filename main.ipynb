{
 "cells": [
  {
   "cell_type": "code",
   "execution_count": null,
   "metadata": {},
   "outputs": [],
   "source": [
    "# linear algebra\n",
    "import numpy as np \n",
    "\n",
    "# data processing\n",
    "import pandas as pd \n",
    "\n",
    "# data visualization\n",
    "import seaborn as sns\n",
    "%matplotlib inline\n",
    "from matplotlib import pyplot as plt\n",
    "from matplotlib import style\n",
    "\n",
    "# algorithms\n",
    "from sklearn.linear_model import Perceptron\n",
    "from sklearn.naive_bayes import GaussianNB"
   ]
  },
  {
   "cell_type": "code",
   "execution_count": null,
   "metadata": {},
   "outputs": [],
   "source": [
    "test_df = pd.read_csv(\"test.csv\")\n",
    "train_df = pd.read_csv(\"train.csv\")"
   ]
  },
  {
   "cell_type": "code",
   "execution_count": null,
   "metadata": {},
   "outputs": [],
   "source": [
    "train_df.info()"
   ]
  },
  {
   "cell_type": "code",
   "execution_count": null,
   "metadata": {},
   "outputs": [],
   "source": [
    "train_df.describe()"
   ]
  },
  {
   "cell_type": "code",
   "execution_count": null,
   "metadata": {},
   "outputs": [],
   "source": [
    "train_df.head()"
   ]
  },
  {
   "cell_type": "code",
   "execution_count": null,
   "metadata": {},
   "outputs": [],
   "source": [
    "train_df = train_df.drop(['Ticket'], axis=1)\n",
    "train_df = train_df.drop(['Name'], axis=1)\n",
    "test_df = test_df.drop(['Ticket'], axis=1)\n",
    "test_df = test_df.drop(['Name'], axis=1)"
   ]
  },
  {
   "cell_type": "code",
   "execution_count": null,
   "metadata": {},
   "outputs": [],
   "source": [
    "test_df.columns.values"
   ]
  },
  {
   "cell_type": "code",
   "execution_count": null,
   "metadata": {},
   "outputs": [],
   "source": [
    "train_df.head()"
   ]
  },
  {
   "cell_type": "code",
   "execution_count": null,
   "metadata": {},
   "outputs": [],
   "source": [
    "total = train_df.isnull().sum().sort_values(ascending=False)\n",
    "temp = train_df.isnull().sum()/train_df.isnull().count()*100\n",
    "percentage = (round(temp, 1)).sort_values(ascending=False)\n",
    "result_table = pd.concat([total, percentage], axis=1, keys=['Total', '%'])\n",
    "result_table.head(10)"
   ]
  },
  {
   "cell_type": "code",
   "execution_count": null,
   "metadata": {},
   "outputs": [],
   "source": [
    "train_df = train_df.drop(['Cabin'], axis=1)\n",
    "test_df = test_df.drop(['Cabin'], axis=1)"
   ]
  },
  {
   "cell_type": "code",
   "execution_count": null,
   "metadata": {},
   "outputs": [],
   "source": [
    "test_df.columns.values"
   ]
  },
  {
   "cell_type": "code",
   "execution_count": null,
   "metadata": {},
   "outputs": [],
   "source": [
    "train_df.head()"
   ]
  },
  {
   "cell_type": "code",
   "execution_count": null,
   "metadata": {},
   "outputs": [],
   "source": [
    "common_value = 'S'\n",
    "data = [train_df, test_df]\n",
    "\n",
    "for dataset in data:\n",
    "    dataset['Embarked'] = dataset['Embarked'].fillna(common_value)"
   ]
  },
  {
   "cell_type": "code",
   "execution_count": null,
   "metadata": {},
   "outputs": [],
   "source": [
    "ind = np.arange(3)  # the x locations for the groups\n",
    "width = 0.35  # the width of the bars\n",
    "\n",
    "southampton = train_df[train_df['Embarked']=='S']\n",
    "cherbourg = train_df[train_df['Embarked']=='C']\n",
    "queenstown = train_df[train_df['Embarked']=='Q']\n",
    "\n",
    "survived_values = (len(southampton[southampton['Survived']==1]), len(cherbourg[cherbourg['Survived']==1]), len(queenstown[queenstown['Survived']==1]))\n",
    "not_survived_values = (len(southampton[southampton['Survived']==0]), len(cherbourg[cherbourg['Survived']==0]), len(queenstown[queenstown['Survived']==0]))\n",
    "\n",
    "fig, ax = plt.subplots()\n",
    "rects1 = ax.bar(ind - width/2, survived_values, width, yerr=False,\n",
    "                color='SkyBlue', label='Survived')\n",
    "rects2 = ax.bar(ind + width/2, not_survived_values, width, yerr=False,\n",
    "                color='IndianRed', label='Not Survived')\n",
    "\n",
    "# Add some text for labels, title and custom x-axis tick labels, etc.\n",
    "ax.set_ylabel('Count')\n",
    "ax.set_title('Survived or not based on port of embarkation')\n",
    "ax.set_xticks(ind)\n",
    "ax.set_xticklabels(('Southampton', 'Cherbourg', 'Queenstown'))\n",
    "ax.legend()\n",
    "\n",
    "\n",
    "def autolabel(rects, xpos='center'):\n",
    "    xpos = xpos.lower()  # normalize the case of the parameter\n",
    "    ha = {'center': 'center', 'right': 'left', 'left': 'right'}\n",
    "    offset = {'center': 0.5, 'right': 0.57, 'left': 0.43}  # x_txt = x + w*off\n",
    "\n",
    "    for rect in rects:\n",
    "        height = rect.get_height()\n",
    "        ax.text(rect.get_x() + rect.get_width()*offset[xpos], 1.01*height,\n",
    "                '{}'.format(height), ha=ha[xpos], va='bottom')\n",
    "\n",
    "\n",
    "autolabel(rects1, \"left\")\n",
    "autolabel(rects2, \"right\")\n",
    "\n",
    "plt.show()"
   ]
  },
  {
   "cell_type": "code",
   "execution_count": null,
   "metadata": {},
   "outputs": [],
   "source": [
    "data = [train_df, test_df]\n",
    "\n",
    "for dataset in data:\n",
    "    mean = dataset[\"Age\"].mean()\n",
    "    stdev = dataset[\"Age\"].std()\n",
    "    total_nulls = dataset[\"Age\"].isnull().sum()\n",
    "    random_age = np.random.randint(mean - stdev, mean + stdev, size = total_nulls)\n",
    "    temp = dataset[\"Age\"].copy()\n",
    "    temp[np.isnan(temp)] = random_age\n",
    "    dataset[\"Age\"] = temp\n",
    "    dataset[\"Age\"] = dataset[\"Age\"].astype(int)"
   ]
  },
  {
   "cell_type": "code",
   "execution_count": null,
   "metadata": {},
   "outputs": [],
   "source": [
    "train_df.info()"
   ]
  },
  {
   "cell_type": "code",
   "execution_count": null,
   "metadata": {},
   "outputs": [],
   "source": [
    "train_df = train_df.drop(['PassengerId'], axis=1)"
   ]
  },
  {
   "cell_type": "code",
   "execution_count": null,
   "metadata": {},
   "outputs": [],
   "source": [
    "ind = np.arange(3)  # the x locations for the groups\n",
    "width = 0.35  # the width of the bars\n",
    "\n",
    "one = train_df[train_df['Pclass']==1]\n",
    "two = train_df[train_df['Pclass']==2]\n",
    "three = train_df[train_df['Pclass']==3]\n",
    "\n",
    "survived_values = (len(one[one['Survived']==1]), len(two[two['Survived']==1]), len(three[three['Survived']==1]))\n",
    "not_survived_values = (len(one[one['Survived']==0]), len(two[two['Survived']==0]), len(three[three['Survived']==0]))\n",
    "\n",
    "fig, ax = plt.subplots()\n",
    "rects1 = ax.bar(ind - width/2, survived_values, width, yerr=False,\n",
    "                color='SkyBlue', label='Survived')\n",
    "rects2 = ax.bar(ind + width/2, not_survived_values, width, yerr=False,\n",
    "                color='IndianRed', label='Not Survived')\n",
    "\n",
    "# Add some text for labels, title and custom x-axis tick labels, etc.\n",
    "ax.set_ylabel('Count')\n",
    "ax.set_title('Survived or not based on ticket class')\n",
    "ax.set_xticks(ind)\n",
    "ax.set_xticklabels(('1', '2', '3'))\n",
    "ax.legend()\n",
    "\n",
    "\n",
    "def autolabel(rects, xpos='center'):\n",
    "    xpos = xpos.lower()  # normalize the case of the parameter\n",
    "    ha = {'center': 'center', 'right': 'left', 'left': 'right'}\n",
    "    offset = {'center': 0.5, 'right': 0.57, 'left': 0.43}  # x_txt = x + w*off\n",
    "\n",
    "    for rect in rects:\n",
    "        height = rect.get_height()\n",
    "        ax.text(rect.get_x() + rect.get_width()*offset[xpos], 1.01*height,\n",
    "                '{}'.format(height), ha=ha[xpos], va='bottom')\n",
    "\n",
    "\n",
    "autolabel(rects1, \"left\")\n",
    "autolabel(rects2, \"right\")\n",
    "\n",
    "plt.show()"
   ]
  },
  {
   "cell_type": "code",
   "execution_count": null,
   "metadata": {},
   "outputs": [],
   "source": [
    "not_survived = train_df[train_df['Survived']==0]\n",
    "survived = train_df[train_df['Survived']==1]\n",
    "\n",
    "nt,ns = np.unique(not_survived['Age'].values, return_counts=True)\n",
    "t,s = np.unique(survived['Age'].values, return_counts=True)\n",
    "\n",
    "fig, ax = plt.subplots()\n",
    "ax.plot(nt, ns, color='IndianRed', label='Not Survived')\n",
    "ax.plot(t, s, color='SkyBlue', label='Survived')\n",
    "\n",
    "ax.set(xlabel='Age', ylabel='Count',\n",
    "       title='Survived or not based on age')\n",
    "ax.grid()\n",
    "ax.legend()\n",
    "lim = ax.get_xlim()\n",
    "ax.set_xticks(list(ax.get_xticks()) + list([5,15,25,35,45,55,65,75]))\n",
    "ax.set_xlim(lim)\n",
    "plt.show()"
   ]
  },
  {
   "cell_type": "code",
   "execution_count": null,
   "metadata": {},
   "outputs": [],
   "source": [
    "data = [train_df, test_df]\n",
    "\n",
    "for dataset in data:\n",
    "    dataset['Age'] = dataset['Age'].astype(int)\n",
    "    dataset.loc[ dataset['Age'] <= 14, 'Age'] = 0\n",
    "    dataset.loc[(dataset['Age'] > 14) & (dataset['Age'] <= 20), 'Age'] = 1\n",
    "    dataset.loc[(dataset['Age'] > 20) & (dataset['Age'] <= 27), 'Age'] = 2\n",
    "    dataset.loc[(dataset['Age'] > 27) & (dataset['Age'] <= 32), 'Age'] = 3\n",
    "    dataset.loc[(dataset['Age'] > 32) & (dataset['Age'] <= 37), 'Age'] = 4\n",
    "    dataset.loc[(dataset['Age'] > 37) & (dataset['Age'] <= 42), 'Age'] = 5\n",
    "    dataset.loc[(dataset['Age'] > 42) & (dataset['Age'] <= 55), 'Age'] = 6\n",
    "    dataset.loc[ dataset['Age'] > 55, 'Age'] = 7"
   ]
  },
  {
   "cell_type": "code",
   "execution_count": null,
   "metadata": {},
   "outputs": [],
   "source": [
    "genders = {\"S\": 0, \"C\": 1, \"Q\": 2}\n",
    "data = [train_df, test_df]\n",
    "\n",
    "for dataset in data:\n",
    "    dataset['Embarked'] = dataset['Embarked'].map(genders)"
   ]
  },
  {
   "cell_type": "code",
   "execution_count": null,
   "metadata": {},
   "outputs": [],
   "source": [
    "genders = {\"male\": 0, \"female\": 1}\n",
    "data = [train_df, test_df]\n",
    "\n",
    "for dataset in data:\n",
    "    dataset['Sex'] = dataset['Sex'].map(genders)"
   ]
  },
  {
   "cell_type": "code",
   "execution_count": null,
   "metadata": {},
   "outputs": [],
   "source": [
    "data = [train_df, test_df]\n",
    "for dataset in data:\n",
    "    dataset['Fare'] = dataset['Fare'].fillna(0)\n",
    "    dataset['Fare'] = dataset['Fare'].astype(int)"
   ]
  },
  {
   "cell_type": "code",
   "execution_count": null,
   "metadata": {},
   "outputs": [],
   "source": [
    "not_survived = train_df[train_df['Survived']==0]\n",
    "survived = train_df[train_df['Survived']==1]\n",
    "\n",
    "nt,ns = np.unique(not_survived.loc[not_survived['Fare'] <= 50, 'Fare'], return_counts=True)\n",
    "t,s = np.unique(survived.loc[survived['Fare'] <= 50, 'Fare'], return_counts=True)\n",
    "\n",
    "fig, ax = plt.subplots()\n",
    "ax.plot(nt, ns, color='IndianRed', label='Not Survived')\n",
    "ax.plot(t, s, color='SkyBlue', label='Survived')\n",
    "\n",
    "ax.set(xlabel='Fare', ylabel='Count',\n",
    "       title='Survived or not based on fare')\n",
    "ax.grid()\n",
    "ax.legend()\n",
    "plt.show()"
   ]
  },
  {
   "cell_type": "code",
   "execution_count": null,
   "metadata": {},
   "outputs": [],
   "source": [
    "not_survived = train_df[train_df['Survived']==0]\n",
    "survived = train_df[train_df['Survived']==1]\n",
    "\n",
    "nt,ns = np.unique(not_survived.loc[(not_survived['Fare'] > 50) & (not_survived['Fare'] <= 100), 'Fare'], return_counts=True)\n",
    "t,s = np.unique(survived.loc[(survived['Fare'] > 50) & (survived['Fare'] <= 100), 'Fare'], return_counts=True)\n",
    "\n",
    "fig, ax = plt.subplots()\n",
    "ax.plot(nt, ns, color='IndianRed', label='Not Survived')\n",
    "ax.plot(t, s, color='SkyBlue', label='Survived')\n",
    "\n",
    "ax.set(xlabel='Fare', ylabel='Count',\n",
    "       title='Survived or not based on fare')\n",
    "ax.grid()\n",
    "ax.legend()\n",
    "plt.show()"
   ]
  },
  {
   "cell_type": "code",
   "execution_count": null,
   "metadata": {},
   "outputs": [],
   "source": [
    "data = [train_df, test_df]\n",
    "\n",
    "for dataset in data:\n",
    "    dataset.loc[ dataset['Fare'] <= 5, 'Fare'] = 0\n",
    "    dataset.loc[(dataset['Fare'] > 5) & (dataset['Fare'] <= 10), 'Fare'] = 1\n",
    "    dataset.loc[(dataset['Fare'] > 10) & (dataset['Fare'] <= 17), 'Fare']   = 2\n",
    "    dataset.loc[(dataset['Fare'] > 17) & (dataset['Fare'] <= 25), 'Fare']   = 3\n",
    "    dataset.loc[(dataset['Fare'] > 25) & (dataset['Fare'] <= 28), 'Fare']   = 4\n",
    "    dataset.loc[(dataset['Fare'] > 28) & (dataset['Fare'] <= 65), 'Fare']   = 5\n",
    "    dataset.loc[(dataset['Fare'] > 65) & (dataset['Fare'] <= 100), 'Fare']   = 6\n",
    "    dataset.loc[ dataset['Fare'] > 100, 'Fare'] = 7\n",
    "    dataset['Fare'] = dataset['Fare'].astype(int)"
   ]
  },
  {
   "cell_type": "code",
   "execution_count": null,
   "metadata": {},
   "outputs": [],
   "source": [
    "train_df.head(10)"
   ]
  },
  {
   "cell_type": "code",
   "execution_count": null,
   "metadata": {},
   "outputs": [],
   "source": [
    "x_train = train_df.drop(\"Survived\", axis=1)\n",
    "y_train = train_df[\"Survived\"]\n",
    "x_test  = test_df.drop(\"PassengerId\", axis=1).copy()"
   ]
  },
  {
   "cell_type": "code",
   "execution_count": null,
   "metadata": {},
   "outputs": [],
   "source": [
    "gaussian_naive_bayes = GaussianNB(var_smoothing=0.0001)\n",
    "gaussian_naive_bayes.fit(x_train, y_train)\n",
    "\n",
    "y_predict_gnb = gaussian_naive_bayes.predict(x_test)\n",
    "test_df['Survived'] = pd.Series(y_predict_gnb, index=test_df.index)\n",
    "\n",
    "acc_gaussian = round(gaussian_naive_bayes.score(x_train, y_train) * 100, 2)"
   ]
  },
  {
   "cell_type": "code",
   "execution_count": null,
   "metadata": {},
   "outputs": [],
   "source": [
    "perceptron = Perceptron(max_iter=250, tol=0.00001)\n",
    "perceptron.fit(x_train, y_train)\n",
    "y_predict_perceptron = perceptron.predict(x_test)\n",
    "acc_perceptron = round(perceptron.score(x_train, y_train) * 100, 2)"
   ]
  },
  {
   "cell_type": "code",
   "execution_count": null,
   "metadata": {},
   "outputs": [],
   "source": [
    "results = pd.DataFrame({\n",
    "    'Model': ['Naive Bayes', 'Perceptron'],\n",
    "    'Score': [acc_gaussian, acc_perceptron]\n",
    "})\n",
    "result_df = results.sort_values(by='Score', ascending=False)\n",
    "result_df = result_df.set_index('Score')\n",
    "result_df.head()"
   ]
  },
  {
   "cell_type": "code",
   "execution_count": null,
   "metadata": {},
   "outputs": [],
   "source": [
    "test_df.to_csv(path_or_buf='result.csv', index=False, columns=['PassengerId','Survived'])"
   ]
  }
 ],
 "metadata": {
  "kernelspec": {
   "display_name": "Python 3",
   "language": "python",
   "name": "python3"
  },
  "language_info": {
   "codemirror_mode": {
    "name": "ipython",
    "version": 3
   },
   "file_extension": ".py",
   "mimetype": "text/x-python",
   "name": "python",
   "nbconvert_exporter": "python",
   "pygments_lexer": "ipython3",
   "version": "3.7.1"
  }
 },
 "nbformat": 4,
 "nbformat_minor": 2
}
